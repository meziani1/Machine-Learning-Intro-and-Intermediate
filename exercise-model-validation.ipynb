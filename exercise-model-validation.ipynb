{
 "cells": [
  {
   "cell_type": "markdown",
   "id": "0032c9c1",
   "metadata": {
    "papermill": {
     "duration": 0.006261,
     "end_time": "2022-07-28T01:54:44.912943",
     "exception": false,
     "start_time": "2022-07-28T01:54:44.906682",
     "status": "completed"
    },
    "tags": []
   },
   "source": [
    "**This notebook is an exercise in the [Introduction to Machine Learning](https://www.kaggle.com/learn/intro-to-machine-learning) course.  You can reference the tutorial at [this link](https://www.kaggle.com/dansbecker/model-validation).**\n",
    "\n",
    "---\n"
   ]
  },
  {
   "cell_type": "markdown",
   "id": "2e819452",
   "metadata": {
    "papermill": {
     "duration": 0.00474,
     "end_time": "2022-07-28T01:54:44.922928",
     "exception": false,
     "start_time": "2022-07-28T01:54:44.918188",
     "status": "completed"
    },
    "tags": []
   },
   "source": [
    "## Recap\n",
    "You've built a model. In this exercise you will test how good your model is.\n",
    "\n",
    "Run the cell below to set up your coding environment where the previous exercise left off."
   ]
  },
  {
   "cell_type": "code",
   "execution_count": 1,
   "id": "3b8bd609",
   "metadata": {
    "execution": {
     "iopub.execute_input": "2022-07-28T01:54:44.934959Z",
     "iopub.status.busy": "2022-07-28T01:54:44.934531Z",
     "iopub.status.idle": "2022-07-28T01:54:46.268652Z",
     "shell.execute_reply": "2022-07-28T01:54:46.267259Z"
    },
    "papermill": {
     "duration": 1.344177,
     "end_time": "2022-07-28T01:54:46.272236",
     "exception": false,
     "start_time": "2022-07-28T01:54:44.928059",
     "status": "completed"
    },
    "tags": []
   },
   "outputs": [
    {
     "name": "stdout",
     "output_type": "stream",
     "text": [
      "First in-sample predictions: [208500. 181500. 223500. 140000. 250000.]\n",
      "Actual target values for those homes: [208500, 181500, 223500, 140000, 250000]\n",
      "Setup Complete\n"
     ]
    }
   ],
   "source": [
    "# Code you have previously used to load data\n",
    "import pandas as pd\n",
    "from sklearn.tree import DecisionTreeRegressor\n",
    "\n",
    "# Path of the file to read\n",
    "iowa_file_path = '../input/home-data-for-ml-course/train.csv'\n",
    "\n",
    "home_data = pd.read_csv(iowa_file_path)\n",
    "y = home_data.SalePrice\n",
    "feature_columns = ['LotArea', 'YearBuilt', '1stFlrSF', '2ndFlrSF', 'FullBath', 'BedroomAbvGr', 'TotRmsAbvGrd']\n",
    "X = home_data[feature_columns]\n",
    "\n",
    "# Specify Model\n",
    "iowa_model = DecisionTreeRegressor()\n",
    "# Fit Model\n",
    "iowa_model.fit(X, y)\n",
    "\n",
    "print(\"First in-sample predictions:\", iowa_model.predict(X.head()))\n",
    "print(\"Actual target values for those homes:\", y.head().tolist())\n",
    "\n",
    "# Set up code checking\n",
    "from learntools.core import binder\n",
    "binder.bind(globals())\n",
    "from learntools.machine_learning.ex4 import *\n",
    "print(\"Setup Complete\")"
   ]
  },
  {
   "cell_type": "markdown",
   "id": "cf067dba",
   "metadata": {
    "papermill": {
     "duration": 0.004996,
     "end_time": "2022-07-28T01:54:46.282850",
     "exception": false,
     "start_time": "2022-07-28T01:54:46.277854",
     "status": "completed"
    },
    "tags": []
   },
   "source": [
    "# Exercises\n",
    "\n",
    "## Step 1: Split Your Data\n",
    "Use the `train_test_split` function to split up your data.\n",
    "\n",
    "Give it the argument `random_state=1` so the `check` functions know what to expect when verifying your code.\n",
    "\n",
    "Recall, your features are loaded in the DataFrame **X** and your target is loaded in **y**.\n"
   ]
  },
  {
   "cell_type": "code",
   "execution_count": 2,
   "id": "be20c494",
   "metadata": {
    "execution": {
     "iopub.execute_input": "2022-07-28T01:54:46.295360Z",
     "iopub.status.busy": "2022-07-28T01:54:46.294978Z",
     "iopub.status.idle": "2022-07-28T01:54:46.308775Z",
     "shell.execute_reply": "2022-07-28T01:54:46.308008Z"
    },
    "papermill": {
     "duration": 0.02262,
     "end_time": "2022-07-28T01:54:46.310737",
     "exception": false,
     "start_time": "2022-07-28T01:54:46.288117",
     "status": "completed"
    },
    "tags": []
   },
   "outputs": [
    {
     "data": {
      "application/javascript": [
       "parent.postMessage({\"jupyterEvent\": \"custom.exercise_interaction\", \"data\": {\"outcomeType\": 1, \"valueTowardsCompletion\": 0.25, \"interactionType\": 1, \"questionType\": 2, \"questionId\": \"1_SplitData\", \"learnToolsVersion\": \"0.3.4\", \"failureMessage\": \"\", \"exceptionClass\": \"\", \"trace\": \"\"}}, \"*\")"
      ],
      "text/plain": [
       "<IPython.core.display.Javascript object>"
      ]
     },
     "metadata": {},
     "output_type": "display_data"
    },
    {
     "data": {
      "text/markdown": [
       "<span style=\"color:#33cc33\">Correct</span>"
      ],
      "text/plain": [
       "Correct"
      ]
     },
     "metadata": {},
     "output_type": "display_data"
    }
   ],
   "source": [
    "# Import the train_test_split function and uncomment\n",
    "from sklearn.model_selection import train_test_split\n",
    "# fill in and uncomment\n",
    "train_X, val_X, train_y, val_y = train_test_split(X, y, random_state = 1)\n",
    "\n",
    "# Check your answer\n",
    "step_1.check()"
   ]
  },
  {
   "cell_type": "code",
   "execution_count": 3,
   "id": "08c7cf6d",
   "metadata": {
    "execution": {
     "iopub.execute_input": "2022-07-28T01:54:46.323774Z",
     "iopub.status.busy": "2022-07-28T01:54:46.323175Z",
     "iopub.status.idle": "2022-07-28T01:54:46.330705Z",
     "shell.execute_reply": "2022-07-28T01:54:46.329691Z"
    },
    "papermill": {
     "duration": 0.016483,
     "end_time": "2022-07-28T01:54:46.332735",
     "exception": false,
     "start_time": "2022-07-28T01:54:46.316252",
     "status": "completed"
    },
    "tags": []
   },
   "outputs": [
    {
     "data": {
      "application/javascript": [
       "parent.postMessage({\"jupyterEvent\": \"custom.exercise_interaction\", \"data\": {\"interactionType\": 3, \"questionType\": 2, \"questionId\": \"1_SplitData\", \"learnToolsVersion\": \"0.3.4\", \"valueTowardsCompletion\": 0.0, \"failureMessage\": \"\", \"exceptionClass\": \"\", \"trace\": \"\", \"outcomeType\": 4}}, \"*\")"
      ],
      "text/plain": [
       "<IPython.core.display.Javascript object>"
      ]
     },
     "metadata": {},
     "output_type": "display_data"
    },
    {
     "data": {
      "text/markdown": [
       "<span style=\"color:#33cc99\">Solution:</span> \n",
       "```python\n",
       "from sklearn.model_selection import train_test_split\n",
       "train_X, val_X, train_y, val_y = train_test_split(X, y, random_state=1)\n",
       "```"
      ],
      "text/plain": [
       "Solution: \n",
       "```python\n",
       "from sklearn.model_selection import train_test_split\n",
       "train_X, val_X, train_y, val_y = train_test_split(X, y, random_state=1)\n",
       "```"
      ]
     },
     "metadata": {},
     "output_type": "display_data"
    }
   ],
   "source": [
    "# The lines below will show you a hint or the solution.\n",
    "# step_1.hint() \n",
    "step_1.solution()\n"
   ]
  },
  {
   "cell_type": "markdown",
   "id": "c9fa82ae",
   "metadata": {
    "papermill": {
     "duration": 0.005502,
     "end_time": "2022-07-28T01:54:46.344040",
     "exception": false,
     "start_time": "2022-07-28T01:54:46.338538",
     "status": "completed"
    },
    "tags": []
   },
   "source": [
    "## Step 2: Specify and Fit the Model\n",
    "\n",
    "Create a `DecisionTreeRegressor` model and fit it to the relevant data.\n",
    "Set `random_state` to 1 again when creating the model."
   ]
  },
  {
   "cell_type": "code",
   "execution_count": 4,
   "id": "e5b3a9df",
   "metadata": {
    "execution": {
     "iopub.execute_input": "2022-07-28T01:54:46.357302Z",
     "iopub.status.busy": "2022-07-28T01:54:46.356422Z",
     "iopub.status.idle": "2022-07-28T01:54:46.383974Z",
     "shell.execute_reply": "2022-07-28T01:54:46.382732Z"
    },
    "papermill": {
     "duration": 0.037072,
     "end_time": "2022-07-28T01:54:46.386721",
     "exception": false,
     "start_time": "2022-07-28T01:54:46.349649",
     "status": "completed"
    },
    "tags": []
   },
   "outputs": [
    {
     "name": "stdout",
     "output_type": "stream",
     "text": [
      "[186500. 184000. 130000.  92000. 164500. 220000. 335000. 144152. 215000.\n",
      " 262000.]\n",
      "[186500. 184000. 130000.  92000. 164500. 220000. 335000. 144152. 215000.\n",
      " 262000.]\n"
     ]
    },
    {
     "data": {
      "application/javascript": [
       "parent.postMessage({\"jupyterEvent\": \"custom.exercise_interaction\", \"data\": {\"outcomeType\": 1, \"valueTowardsCompletion\": 0.25, \"interactionType\": 1, \"questionType\": 2, \"questionId\": \"2_FitModelWithTrain\", \"learnToolsVersion\": \"0.3.4\", \"failureMessage\": \"\", \"exceptionClass\": \"\", \"trace\": \"\"}}, \"*\")"
      ],
      "text/plain": [
       "<IPython.core.display.Javascript object>"
      ]
     },
     "metadata": {},
     "output_type": "display_data"
    },
    {
     "data": {
      "text/markdown": [
       "<span style=\"color:#33cc33\">Correct</span>"
      ],
      "text/plain": [
       "Correct"
      ]
     },
     "metadata": {},
     "output_type": "display_data"
    }
   ],
   "source": [
    "# You imported DecisionTreeRegressor in your last exercise\n",
    "# and that code has been copied to the setup code above. So, no need to\n",
    "# import it again\n",
    "\n",
    "# Specify the model\n",
    "iowa_model =DecisionTreeRegressor(random_state=1)\n",
    "\n",
    "# Fit iowa_model with the training data.\n",
    "iowa_model.fit(train_X,train_y)\n",
    "\n",
    "# Check your answer\n",
    "step_2.check()"
   ]
  },
  {
   "cell_type": "code",
   "execution_count": 5,
   "id": "bcbaec29",
   "metadata": {
    "execution": {
     "iopub.execute_input": "2022-07-28T01:54:46.400942Z",
     "iopub.status.busy": "2022-07-28T01:54:46.400161Z",
     "iopub.status.idle": "2022-07-28T01:54:46.404837Z",
     "shell.execute_reply": "2022-07-28T01:54:46.403775Z"
    },
    "papermill": {
     "duration": 0.014164,
     "end_time": "2022-07-28T01:54:46.407116",
     "exception": false,
     "start_time": "2022-07-28T01:54:46.392952",
     "status": "completed"
    },
    "tags": []
   },
   "outputs": [],
   "source": [
    "# step_2.hint()\n",
    "# step_2.solution()"
   ]
  },
  {
   "cell_type": "markdown",
   "id": "7da9a224",
   "metadata": {
    "papermill": {
     "duration": 0.005756,
     "end_time": "2022-07-28T01:54:46.418969",
     "exception": false,
     "start_time": "2022-07-28T01:54:46.413213",
     "status": "completed"
    },
    "tags": []
   },
   "source": [
    "## Step 3: Make Predictions with Validation data\n"
   ]
  },
  {
   "cell_type": "code",
   "execution_count": 6,
   "id": "5f4de640",
   "metadata": {
    "execution": {
     "iopub.execute_input": "2022-07-28T01:54:46.432795Z",
     "iopub.status.busy": "2022-07-28T01:54:46.432035Z",
     "iopub.status.idle": "2022-07-28T01:54:46.445106Z",
     "shell.execute_reply": "2022-07-28T01:54:46.443958Z"
    },
    "papermill": {
     "duration": 0.02244,
     "end_time": "2022-07-28T01:54:46.447245",
     "exception": false,
     "start_time": "2022-07-28T01:54:46.424805",
     "status": "completed"
    },
    "tags": []
   },
   "outputs": [
    {
     "data": {
      "application/javascript": [
       "parent.postMessage({\"jupyterEvent\": \"custom.exercise_interaction\", \"data\": {\"outcomeType\": 1, \"valueTowardsCompletion\": 0.25, \"interactionType\": 1, \"questionType\": 2, \"questionId\": \"3_ValPreds\", \"learnToolsVersion\": \"0.3.4\", \"failureMessage\": \"\", \"exceptionClass\": \"\", \"trace\": \"\"}}, \"*\")"
      ],
      "text/plain": [
       "<IPython.core.display.Javascript object>"
      ]
     },
     "metadata": {},
     "output_type": "display_data"
    },
    {
     "data": {
      "text/markdown": [
       "<span style=\"color:#33cc33\">Correct</span>"
      ],
      "text/plain": [
       "Correct"
      ]
     },
     "metadata": {},
     "output_type": "display_data"
    }
   ],
   "source": [
    "# Predict with all validation observations\n",
    "val_predictions = iowa_model.predict(val_X)\n",
    "\n",
    "# Check your answer\n",
    "step_3.check()"
   ]
  },
  {
   "cell_type": "code",
   "execution_count": 7,
   "id": "d273a4bf",
   "metadata": {
    "execution": {
     "iopub.execute_input": "2022-07-28T01:54:46.461627Z",
     "iopub.status.busy": "2022-07-28T01:54:46.461227Z",
     "iopub.status.idle": "2022-07-28T01:54:46.465334Z",
     "shell.execute_reply": "2022-07-28T01:54:46.464295Z"
    },
    "papermill": {
     "duration": 0.013914,
     "end_time": "2022-07-28T01:54:46.467448",
     "exception": false,
     "start_time": "2022-07-28T01:54:46.453534",
     "status": "completed"
    },
    "tags": []
   },
   "outputs": [],
   "source": [
    "# step_3.hint()\n",
    "# step_3.solution()"
   ]
  },
  {
   "cell_type": "markdown",
   "id": "99e8af88",
   "metadata": {
    "papermill": {
     "duration": 0.006205,
     "end_time": "2022-07-28T01:54:46.480038",
     "exception": false,
     "start_time": "2022-07-28T01:54:46.473833",
     "status": "completed"
    },
    "tags": []
   },
   "source": [
    "Inspect your predictions and actual values from validation data."
   ]
  },
  {
   "cell_type": "code",
   "execution_count": 8,
   "id": "40f17532",
   "metadata": {
    "execution": {
     "iopub.execute_input": "2022-07-28T01:54:46.496063Z",
     "iopub.status.busy": "2022-07-28T01:54:46.495033Z",
     "iopub.status.idle": "2022-07-28T01:54:46.503277Z",
     "shell.execute_reply": "2022-07-28T01:54:46.501884Z"
    },
    "papermill": {
     "duration": 0.019203,
     "end_time": "2022-07-28T01:54:46.505967",
     "exception": false,
     "start_time": "2022-07-28T01:54:46.486764",
     "status": "completed"
    },
    "tags": []
   },
   "outputs": [
    {
     "name": "stdout",
     "output_type": "stream",
     "text": [
      "[186500. 184000. 130000.  92000.]\n",
      "258    231500\n",
      "267    179500\n",
      "288    122000\n",
      "649     84500\n",
      "Name: SalePrice, dtype: int64\n"
     ]
    }
   ],
   "source": [
    "# print the top few validation predictions\n",
    "print(val_predictions[:4])\n",
    "# print the top few actual prices from validation data\n",
    "print(val_y[:4])"
   ]
  },
  {
   "cell_type": "markdown",
   "id": "c5f43fc6",
   "metadata": {
    "papermill": {
     "duration": 0.006155,
     "end_time": "2022-07-28T01:54:46.518552",
     "exception": false,
     "start_time": "2022-07-28T01:54:46.512397",
     "status": "completed"
    },
    "tags": []
   },
   "source": [
    "What do you notice that is different from what you saw with in-sample predictions (which are printed after the top code cell in this page).\n",
    "\n",
    "Do you remember why validation predictions differ from in-sample (or training) predictions? This is an important idea from the last lesson.\n",
    "\n",
    "## Step 4: Calculate the Mean Absolute Error in Validation Data\n"
   ]
  },
  {
   "cell_type": "code",
   "execution_count": 9,
   "id": "dbc8f3fb",
   "metadata": {
    "execution": {
     "iopub.execute_input": "2022-07-28T01:54:46.533516Z",
     "iopub.status.busy": "2022-07-28T01:54:46.532797Z",
     "iopub.status.idle": "2022-07-28T01:54:46.543015Z",
     "shell.execute_reply": "2022-07-28T01:54:46.541949Z"
    },
    "papermill": {
     "duration": 0.020424,
     "end_time": "2022-07-28T01:54:46.545378",
     "exception": false,
     "start_time": "2022-07-28T01:54:46.524954",
     "status": "completed"
    },
    "tags": []
   },
   "outputs": [
    {
     "data": {
      "application/javascript": [
       "parent.postMessage({\"jupyterEvent\": \"custom.exercise_interaction\", \"data\": {\"outcomeType\": 1, \"valueTowardsCompletion\": 0.25, \"interactionType\": 1, \"questionType\": 1, \"questionId\": \"4_MAE\", \"learnToolsVersion\": \"0.3.4\", \"failureMessage\": \"\", \"exceptionClass\": \"\", \"trace\": \"\"}}, \"*\")"
      ],
      "text/plain": [
       "<IPython.core.display.Javascript object>"
      ]
     },
     "metadata": {},
     "output_type": "display_data"
    },
    {
     "data": {
      "text/markdown": [
       "<span style=\"color:#33cc33\">Correct</span>"
      ],
      "text/plain": [
       "Correct"
      ]
     },
     "metadata": {},
     "output_type": "display_data"
    }
   ],
   "source": [
    "from sklearn.metrics import mean_absolute_error\n",
    "val_mae = mean_absolute_error(val_y, val_predictions)\n",
    "\n",
    "# uncomment following line to see the validation_mae\n",
    "#print(val_mae)\n",
    "\n",
    "# Check your answer\n",
    "step_4.check()"
   ]
  },
  {
   "cell_type": "code",
   "execution_count": 10,
   "id": "25e922b9",
   "metadata": {
    "execution": {
     "iopub.execute_input": "2022-07-28T01:54:46.562236Z",
     "iopub.status.busy": "2022-07-28T01:54:46.561532Z",
     "iopub.status.idle": "2022-07-28T01:54:46.566337Z",
     "shell.execute_reply": "2022-07-28T01:54:46.565407Z"
    },
    "papermill": {
     "duration": 0.015492,
     "end_time": "2022-07-28T01:54:46.568578",
     "exception": false,
     "start_time": "2022-07-28T01:54:46.553086",
     "status": "completed"
    },
    "tags": []
   },
   "outputs": [],
   "source": [
    "# step_4.hint()\n",
    "# step_4.solution()"
   ]
  },
  {
   "cell_type": "markdown",
   "id": "1b5aa565",
   "metadata": {
    "papermill": {
     "duration": 0.006558,
     "end_time": "2022-07-28T01:54:46.582062",
     "exception": false,
     "start_time": "2022-07-28T01:54:46.575504",
     "status": "completed"
    },
    "tags": []
   },
   "source": [
    "Is that MAE good?  There isn't a general rule for what values are good that applies across applications. But you'll see how to use (and improve) this number in the next step.\n",
    "\n",
    "# Keep Going\n",
    "\n",
    "You are ready for **[Underfitting and Overfitting](https://www.kaggle.com/dansbecker/underfitting-and-overfitting).**\n"
   ]
  },
  {
   "cell_type": "markdown",
   "id": "7f693d86",
   "metadata": {
    "papermill": {
     "duration": 0.006416,
     "end_time": "2022-07-28T01:54:46.595343",
     "exception": false,
     "start_time": "2022-07-28T01:54:46.588927",
     "status": "completed"
    },
    "tags": []
   },
   "source": [
    "---\n",
    "\n",
    "\n",
    "\n",
    "\n",
    "*Have questions or comments? Visit the [course discussion forum](https://www.kaggle.com/learn/intro-to-machine-learning/discussion) to chat with other learners.*"
   ]
  }
 ],
 "metadata": {
  "kernelspec": {
   "display_name": "Python 3",
   "language": "python",
   "name": "python3"
  },
  "language_info": {
   "codemirror_mode": {
    "name": "ipython",
    "version": 3
   },
   "file_extension": ".py",
   "mimetype": "text/x-python",
   "name": "python",
   "nbconvert_exporter": "python",
   "pygments_lexer": "ipython3",
   "version": "3.7.12"
  },
  "papermill": {
   "default_parameters": {},
   "duration": 12.154237,
   "end_time": "2022-07-28T01:54:47.324989",
   "environment_variables": {},
   "exception": null,
   "input_path": "__notebook__.ipynb",
   "output_path": "__notebook__.ipynb",
   "parameters": {},
   "start_time": "2022-07-28T01:54:35.170752",
   "version": "2.3.4"
  }
 },
 "nbformat": 4,
 "nbformat_minor": 5
}
